{
  "nbformat": 4,
  "nbformat_minor": 0,
  "metadata": {
    "colab": {
      "provenance": [],
      "gpuType": "T4",
      "authorship_tag": "ABX9TyM3bgLX4kn98X1+RSfaEC8L",
      "include_colab_link": true
    },
    "kernelspec": {
      "name": "python3",
      "display_name": "Python 3"
    },
    "language_info": {
      "name": "python"
    },
    "accelerator": "GPU"
  },
  "cells": [
    {
      "cell_type": "markdown",
      "metadata": {
        "id": "view-in-github",
        "colab_type": "text"
      },
      "source": [
        "<a href=\"https://colab.research.google.com/github/nikitamahajan92/Brain_Tumor_Detection_CNN/blob/main/Brain_Tumor_Detection_with_CNN_.ipynb\" target=\"_parent\"><img src=\"https://colab.research.google.com/assets/colab-badge.svg\" alt=\"Open In Colab\"/></a>"
      ]
    },
    {
      "cell_type": "code",
      "execution_count": 4,
      "metadata": {
        "id": "3uqm2R_1rkZE"
      },
      "outputs": [],
      "source": [
        "import numpy as np\n",
        "import tensorflow as tf\n",
        "from keras.preprocessing.image import ImageDataGenerator"
      ]
    },
    {
      "cell_type": "code",
      "source": [
        "from google.colab import drive\n",
        "drive.mount('/content/drive')"
      ],
      "metadata": {
        "colab": {
          "base_uri": "https://localhost:8080/"
        },
        "id": "-CVmT18ewbMH",
        "outputId": "9cb9ad8b-5ba3-4aa6-d520-f3969acbc3fc"
      },
      "execution_count": 5,
      "outputs": [
        {
          "output_type": "stream",
          "name": "stdout",
          "text": [
            "Mounted at /content/drive\n"
          ]
        }
      ]
    },
    {
      "cell_type": "code",
      "source": [
        "#!unzip -q ../content/Dataset.zip -d ../  "
      ],
      "metadata": {
        "id": "yHJBGbjkvQoV"
      },
      "execution_count": 6,
      "outputs": []
    },
    {
      "cell_type": "code",
      "source": [
        "train_datagen = ImageDataGenerator(\n",
        "    rescale=1./255,\n",
        "    shear_range = 0.2,\n",
        "    zoom_range = 0.2,\n",
        "    horizontal_flip=True)\n",
        "training_set = train_datagen.flow_from_directory('/content/drive/MyDrive/brain-tumor-detection/Dataset/train',target_size=(224,224),batch_size=32,shuffle=True,class_mode='binary')"
      ],
      "metadata": {
        "colab": {
          "base_uri": "https://localhost:8080/"
        },
        "id": "IEKF3Ou_sJuk",
        "outputId": "3f02d002-b464-4f92-a789-811dd7c0a161"
      },
      "execution_count": 7,
      "outputs": [
        {
          "output_type": "stream",
          "name": "stdout",
          "text": [
            "Found 215 images belonging to 2 classes.\n"
          ]
        }
      ]
    },
    {
      "cell_type": "code",
      "source": [
        "test_datagen = ImageDataGenerator(rescale=1./255)\n",
        "test_set = test_datagen.flow_from_directory('/content/drive/MyDrive/brain-tumor-detection/Dataset/test',target_size=(224,224),batch_size=16,shuffle=False,class_mode='binary')"
      ],
      "metadata": {
        "colab": {
          "base_uri": "https://localhost:8080/"
        },
        "id": "rasjtKCnsLva",
        "outputId": "518a3ef6-9b41-4598-a0bf-e8c4eecf3749"
      },
      "execution_count": 8,
      "outputs": [
        {
          "output_type": "stream",
          "name": "stdout",
          "text": [
            "Found 32 images belonging to 2 classes.\n"
          ]
        }
      ]
    },
    {
      "cell_type": "code",
      "source": [
        "cnn = tf.keras.models.Sequential()\n",
        " \n",
        "cnn.add(tf.keras.layers.Conv2D(filters=224 , kernel_size=3 , activation='relu' , input_shape=[224,224,3]))\n",
        "cnn.add(tf.keras.layers.MaxPool2D(pool_size=2,strides=2))\n",
        " \n",
        "cnn.add(tf.keras.layers.Conv2D(filters=224 , kernel_size=3 , activation='relu' ))\n",
        "cnn.add(tf.keras.layers.MaxPool2D(pool_size=2 , strides=2))\n",
        " \n",
        "cnn.add(tf.keras.layers.Dropout(0.5))\n",
        "cnn.add(tf.keras.layers.Flatten())\n",
        "cnn.add(tf.keras.layers.Dense(units=128, activation='relu'))\n",
        "cnn.add(tf.keras.layers.Dense(units=1 , activation='sigmoid'))\n",
        "cnn.compile(optimizer = 'Adam' , loss = 'binary_crossentropy' , metrics = ['accuracy'])"
      ],
      "metadata": {
        "id": "g4FfAJGsx8uG"
      },
      "execution_count": null,
      "outputs": []
    },
    {
      "cell_type": "code",
      "source": [
        "cnn.fit(x = training_set , validation_data = test_set , epochs = 10)"
      ],
      "metadata": {
        "colab": {
          "base_uri": "https://localhost:8080/"
        },
        "id": "QLbDnyhmyDPd",
        "outputId": "a751db12-45ee-4472-af5a-0d862a78b3f3"
      },
      "execution_count": 10,
      "outputs": [
        {
          "output_type": "stream",
          "name": "stdout",
          "text": [
            "Epoch 1/10\n",
            "7/7 [==============================] - 89s 11s/step - loss: 2.9082 - accuracy: 0.6512 - val_loss: 0.6305 - val_accuracy: 0.5312\n",
            "Epoch 2/10\n",
            "7/7 [==============================] - 5s 611ms/step - loss: 0.6118 - accuracy: 0.6372 - val_loss: 0.5746 - val_accuracy: 0.7188\n",
            "Epoch 3/10\n",
            "7/7 [==============================] - 5s 672ms/step - loss: 0.5567 - accuracy: 0.7488 - val_loss: 0.5233 - val_accuracy: 0.7188\n",
            "Epoch 4/10\n",
            "7/7 [==============================] - 6s 720ms/step - loss: 0.5609 - accuracy: 0.7581 - val_loss: 0.4947 - val_accuracy: 0.7500\n",
            "Epoch 5/10\n",
            "7/7 [==============================] - 5s 663ms/step - loss: 0.5005 - accuracy: 0.7721 - val_loss: 0.4625 - val_accuracy: 0.7812\n",
            "Epoch 6/10\n",
            "7/7 [==============================] - 6s 866ms/step - loss: 0.5679 - accuracy: 0.7302 - val_loss: 0.5186 - val_accuracy: 0.7812\n",
            "Epoch 7/10\n",
            "7/7 [==============================] - 6s 743ms/step - loss: 0.5437 - accuracy: 0.7581 - val_loss: 0.4879 - val_accuracy: 0.7500\n",
            "Epoch 8/10\n",
            "7/7 [==============================] - 5s 621ms/step - loss: 0.5493 - accuracy: 0.7535 - val_loss: 0.4473 - val_accuracy: 0.8125\n",
            "Epoch 9/10\n",
            "7/7 [==============================] - 6s 774ms/step - loss: 0.4807 - accuracy: 0.7953 - val_loss: 0.5219 - val_accuracy: 0.7500\n",
            "Epoch 10/10\n",
            "7/7 [==============================] - 5s 604ms/step - loss: 0.4587 - accuracy: 0.7814 - val_loss: 0.4351 - val_accuracy: 0.8125\n"
          ]
        },
        {
          "output_type": "execute_result",
          "data": {
            "text/plain": [
              "<keras.callbacks.History at 0x7f32519b53c0>"
            ]
          },
          "metadata": {},
          "execution_count": 10
        }
      ]
    },
    {
      "cell_type": "code",
      "source": [
        "from keras.preprocessing import image\n",
        "test_image = tf.keras.utils.load_img('/content/drive/MyDrive/brain-tumor-detection/Dataset/prediction/yes2.jpg',target_size=(224,224))\n",
        "test_image = tf.keras.utils.img_to_array(test_image)\n",
        "test_image = np.expand_dims(test_image,axis=0)\n",
        " \n",
        "result = cnn.predict(test_image)\n",
        "training_set.class_indices\n",
        "\n",
        "print(result)"
      ],
      "metadata": {
        "colab": {
          "base_uri": "https://localhost:8080/"
        },
        "id": "AHnhLr5uyGT4",
        "outputId": "43cc09f7-24a2-4a3a-9beb-4a759917d8f1"
      },
      "execution_count": 15,
      "outputs": [
        {
          "output_type": "stream",
          "name": "stdout",
          "text": [
            "1/1 [==============================] - 0s 22ms/step\n",
            "[[1.]]\n"
          ]
        }
      ]
    },
    {
      "cell_type": "code",
      "source": [
        "if result[0][0] == 1:\n",
        "    print('yes')\n",
        "else:\n",
        "    print('no')"
      ],
      "metadata": {
        "colab": {
          "base_uri": "https://localhost:8080/"
        },
        "id": "uFvLHKSjyMri",
        "outputId": "6c4db0c5-a52f-4c17-b84e-10c83cdfd872"
      },
      "execution_count": 16,
      "outputs": [
        {
          "output_type": "stream",
          "name": "stdout",
          "text": [
            "yes\n"
          ]
        }
      ]
    },
    {
      "cell_type": "code",
      "source": [],
      "metadata": {
        "id": "dm6NIAtR0TB7"
      },
      "execution_count": null,
      "outputs": []
    }
  ]
}